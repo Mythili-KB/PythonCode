{
 "cells": [
  {
   "cell_type": "code",
   "execution_count": null,
   "id": "78d24af6",
   "metadata": {},
   "outputs": [],
   "source": [
    "#BMI= 10000 * Weight in kg/ (Height in m)^2"
   ]
  },
  {
   "cell_type": "code",
   "execution_count": 15,
   "id": "263ef6c4",
   "metadata": {},
   "outputs": [
    {
     "name": "stdout",
     "output_type": "stream",
     "text": [
      "Enter your weight in kgs: 54\n",
      "Enter your height in m: 155\n",
      "BMI=  22.47658688865765\n",
      "You are normal weight\n"
     ]
    }
   ],
   "source": [
    "weight = float(input(\"Enter your weight in kgs: \"))\n",
    "height = float(input(\"Enter your height in m: \"))\n",
    "\n",
    "BMI= 10000*weight/(height * height)\n",
    "\n",
    "print(\"BMI= \", BMI)\n",
    "\n",
    "if BMI>0:\n",
    "    if (BMI<18.5):\n",
    "        print('You are underweight')\n",
    "    elif (BMI<=24.9):\n",
    "        print('You are normal weight')\n",
    "    elif (BMI<29.9):\n",
    "        print('You are overweight')\n",
    "    elif (BMI<34.9):\n",
    "        print('You are obese')\n",
    "    elif (BMI<39.9):\n",
    "        print('You are severely obese')\n",
    "    else:\n",
    "        print('You are morbidly obese')"
   ]
  },
  {
   "cell_type": "code",
   "execution_count": null,
   "id": "49c95fe5",
   "metadata": {},
   "outputs": [],
   "source": []
  }
 ],
 "metadata": {
  "kernelspec": {
   "display_name": "Python 3 (ipykernel)",
   "language": "python",
   "name": "python3"
  },
  "language_info": {
   "codemirror_mode": {
    "name": "ipython",
    "version": 3
   },
   "file_extension": ".py",
   "mimetype": "text/x-python",
   "name": "python",
   "nbconvert_exporter": "python",
   "pygments_lexer": "ipython3",
   "version": "3.11.3"
  }
 },
 "nbformat": 4,
 "nbformat_minor": 5
}
